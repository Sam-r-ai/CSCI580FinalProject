{
  "cells": [
    {
      "cell_type": "markdown",
      "metadata": {
        "id": "ABpjTHGn0dkU"
      },
      "source": [
        "# Training Neural Networks\n",
        "\n",
        "The network we built in the previous part isn't so smart, it doesn't know anything about our handwritten digits. Neural networks with non-linear activations work like universal function approximators. There is some function that maps your input to the output. For example, images of handwritten digits to class probabilities. The power of neural networks is that we can train them to approximate this function, and basically any function given enough data and compute time.\n"
      ]
    },
    {
      "cell_type": "markdown",
      "metadata": {
        "id": "z4isEQZR0dkW"
      },
      "source": [
        "## Losses in PyTorch\n",
        "\n",
        "Let's start by seeing how we calculate the loss with PyTorch. Through the `nn` module, PyTorch provides losses such as the cross-entropy loss (`nn.CrossEntropyLoss`). You'll usually see the loss assigned to `criterion`. As noted in the last part, with a classification problem such as MNIST, we're using the softmax function to predict class probabilities. With a softmax output, you want to use cross-entropy as the loss. To actually calculate the loss, you first define the criterion then pass in the output of your network and the correct labels.\n",
        "\n",
        "Something really important to note here. Looking at [the documentation for `nn.CrossEntropyLoss`](https://pytorch.org/docs/stable/nn.html#torch.nn.CrossEntropyLoss),\n",
        "\n",
        "> This criterion combines `nn.LogSoftmax()` and `nn.NLLLoss()` in one single class.\n",
        ">\n",
        "> The input is expected to contain scores for each class.\n",
        "\n",
        "This means we need to pass in the raw output of our network into the loss, not the output of the softmax function. This raw output is usually called the *logits* or *scores*. We use the logits because softmax gives you probabilities which will often be very close to zero or one but floating-point numbers can't accurately represent values near zero or one ([read more here](https://docs.python.org/3/tutorial/floatingpoint.html)). It's usually best to avoid doing calculations with probabilities, typically we use log-probabilities."
      ]
    },
    {
      "cell_type": "code",
      "execution_count": 4,
      "metadata": {
        "colab": {
          "base_uri": "https://localhost:8080/"
        },
        "id": "532wjwO80dkX",
        "outputId": "f077756a-a52c-4422-db66-2fdd06f493dc"
      },
      "outputs": [
        {
          "output_type": "stream",
          "name": "stdout",
          "text": [
            "<torch.utils.data.dataloader.DataLoader object at 0x798def6068c0>\n"
          ]
        }
      ],
      "source": [
        "import torch\n",
        "from torch import nn\n",
        "import torch.nn.functional as F\n",
        "from torchvision import datasets, transforms\n",
        "\n",
        "# Define a transform to normalize the data\n",
        "transform = transforms.Compose([transforms.ToTensor(),\n",
        "                                transforms.Normalize((0.5,), (0.5,)),\n",
        "                              ])\n",
        "# Download and load the training data\n",
        "trainset = datasets.MNIST('~/.pytorch/MNIST_data/', download=True, train=True, transform=transform)\n",
        "trainloader = torch.utils.data.DataLoader(trainset, batch_size=64, shuffle=True)\n",
        "print (trainloader)"
      ]
    },
    {
      "cell_type": "markdown",
      "metadata": {
        "id": "cExrq1Uz0dkY"
      },
      "source": [
        "### Feed-Forward and Compute Loss (Error)\n",
        "Lett's build a neural network and push one batch of training images through the model to complete a feed-forward process."
      ]
    },
    {
      "cell_type": "code",
      "execution_count": 6,
      "metadata": {
        "colab": {
          "base_uri": "https://localhost:8080/"
        },
        "id": "Z78xca-80dkZ",
        "outputId": "cca33f4c-9519-4564-e85a-2741082b46fc"
      },
      "outputs": [
        {
          "output_type": "stream",
          "name": "stdout",
          "text": [
            "Sequential(\n",
            "  (0): Linear(in_features=784, out_features=128, bias=True)\n",
            "  (1): ReLU()\n",
            "  (2): Linear(in_features=128, out_features=64, bias=True)\n",
            "  (3): ReLU()\n",
            "  (4): Linear(in_features=64, out_features=10, bias=True)\n",
            ")\n",
            "torch.Size([64, 784])\n",
            "torch.Size([64, 10])\n",
            "torch.Size([64])\n",
            "torch.Size([])\n",
            "tensor(2.3123, grad_fn=<NllLossBackward0>)\n"
          ]
        }
      ],
      "source": [
        "# Build a feed-forward network\n",
        "model = nn.Sequential(nn.Linear(784, 128),\n",
        "                      nn.ReLU(),\n",
        "                      nn.Linear(128, 64),\n",
        "                      nn.ReLU(),\n",
        "                      nn.Linear(64, 10))\n",
        "print (model)\n",
        "\n",
        "# Define the loss function\n",
        "criterion = nn.CrossEntropyLoss()\n",
        "\n",
        "# Get our data\n",
        "images, labels = next(iter(trainloader))\n",
        "# Flatten images\n",
        "images = images.view(images.shape[0], -1)\n",
        "print(images.shape)\n",
        "# Forward pass, get our logits\n",
        "logits = model(images)\n",
        "print(logits.shape)\n",
        "print(labels.shape)\n",
        "# Calculate the loss with the logits and the labels\n",
        "loss = criterion(logits, labels)\n",
        "print(loss.shape)\n",
        "print(loss)"
      ]
    },
    {
      "cell_type": "markdown",
      "metadata": {
        "id": "kxp1JYhn0dkZ"
      },
      "source": [
        "It's more convenient to build the model with a log-softmax output using `nn.LogSoftmax` or `F.log_softmax` ([documentation](https://pytorch.org/docs/stable/nn.html#torch.nn.LogSoftmax)). Then you can get the actual probabilities by taking the exponential `torch.exp(output)`. With a log-softmax output, you want to use the negative log likelihood loss, `nn.NLLLoss` ([documentation](https://pytorch.org/docs/stable/nn.html#torch.nn.NLLLoss)).\n",
        "\n",
        ">**Experiment With Code:** Build a model that returns the log-softmax as the output and calculate the loss using the negative log likelihood loss. Note that for `nn.LogSoftmax` and `F.log_softmax` you'll need to set the `dim` keyword argument appropriately. `dim=0` calculates softmax across the rows, so each column sums to 1, while `dim=1` calculates across the columns so each row sums to 1. Think about what you want the output to be and choose `dim` appropriately."
      ]
    },
    {
      "cell_type": "code",
      "execution_count": 7,
      "metadata": {
        "colab": {
          "base_uri": "https://localhost:8080/"
        },
        "id": "E1VjeVrM0dka",
        "outputId": "cb5b5005-c63e-408b-9217-04ecf2e3dd03"
      },
      "outputs": [
        {
          "output_type": "stream",
          "name": "stdout",
          "text": [
            "tensor(2.3050, grad_fn=<NllLossBackward0>)\n"
          ]
        }
      ],
      "source": [
        "# Build a feed-forward network\n",
        "model = nn.Sequential(nn.Linear(784,128),\n",
        "                      nn.ReLU(),\n",
        "                      nn.Linear(128,64),\n",
        "                      nn.ReLU(),\n",
        "                      nn.Linear(64,10),\n",
        "                      nn.LogSoftmax(dim=1))\n",
        "\n",
        "# Define the loss\n",
        "criterion = nn.NLLLoss()\n",
        "\n",
        "### Run this to check your work\n",
        "# Get our data\n",
        "images, labels = next(iter(trainloader))\n",
        "# Flatten images\n",
        "images = images.view(images.shape[0], -1)\n",
        "\n",
        "# Forward pass, get our logits\n",
        "logits = model(images)\n",
        "# Calculate the loss with the logits and the labels\n",
        "loss = criterion(logits, labels)\n",
        "\n",
        "print(loss)"
      ]
    },
    {
      "cell_type": "markdown",
      "metadata": {
        "id": "IWvPWmf40dka"
      },
      "source": [
        "### Backpropagation = Automatic Computing of Gradient\n",
        "\n",
        "Now that we know how to calculate a loss, how do we use it to perform backpropagation? Torch provides a module, `autograd`, for automatically calculating the gradients of tensors. We can use it to calculate the gradients of all our parameters with respect to the loss. Autograd works by keeping track of operations performed on tensors, then going backwards through those operations, calculating gradients along the way. To make sure PyTorch keeps track of operations on a tensor and calculates the gradients, you need to set `requires_grad = True` on a tensor. You can do this at creation with the `requires_grad` keyword, or at any time with `x.requires_grad_(True)`.\n",
        "\n",
        "You can turn off gradients for a block of code with the `torch.no_grad()` content:\n",
        "```python\n",
        "x = torch.zeros(1, requires_grad=True)\n",
        ">>> with torch.no_grad():\n",
        "...     y = x * 2\n",
        ">>> y.requires_grad\n",
        "False\n",
        "```\n",
        "\n",
        "Also, you can turn on or off gradients altogether with `torch.set_grad_enabled(True|False)`.\n",
        "\n",
        "The gradients are computed with respect to some variable `z` with `z.backward()`. This does a backward pass through the operations that created `z`."
      ]
    },
    {
      "cell_type": "code",
      "execution_count": 8,
      "metadata": {
        "colab": {
          "base_uri": "https://localhost:8080/"
        },
        "id": "DVSzf8qH0dkb",
        "outputId": "edaefd0c-cec4-4d7e-fad1-74ef5b8178e2"
      },
      "outputs": [
        {
          "output_type": "stream",
          "name": "stdout",
          "text": [
            "tensor([[-0.9547,  1.3320,  0.8667],\n",
            "        [-1.2489, -0.1890,  0.9410],\n",
            "        [-0.6057,  0.7495, -1.2559]], requires_grad=True)\n"
          ]
        }
      ],
      "source": [
        "x = torch.randn(3,3, requires_grad=True)\n",
        "print(x)"
      ]
    },
    {
      "cell_type": "code",
      "execution_count": 9,
      "metadata": {
        "colab": {
          "base_uri": "https://localhost:8080/"
        },
        "id": "TV2Qg6Cf0dkb",
        "outputId": "8b502a9a-d958-417d-8ada-ba2b4987d170"
      },
      "outputs": [
        {
          "output_type": "stream",
          "name": "stdout",
          "text": [
            "tensor([[0.9114, 1.7743, 0.7511],\n",
            "        [1.5598, 0.0357, 0.8855],\n",
            "        [0.3669, 0.5618, 1.5772]], grad_fn=<PowBackward0>)\n"
          ]
        }
      ],
      "source": [
        "y = x**2\n",
        "print(y)"
      ]
    },
    {
      "cell_type": "markdown",
      "metadata": {
        "id": "oYNnHGak0dkb"
      },
      "source": [
        "Below we can see the operation that created `y`, a power operation `PowBackward0`."
      ]
    },
    {
      "cell_type": "code",
      "execution_count": 10,
      "metadata": {
        "colab": {
          "base_uri": "https://localhost:8080/"
        },
        "id": "_Vd8iFPq0dkc",
        "outputId": "f9e3f9e6-2049-447c-bbc9-c012ac745b46"
      },
      "outputs": [
        {
          "output_type": "stream",
          "name": "stdout",
          "text": [
            "<PowBackward0 object at 0x798def604ac0>\n"
          ]
        }
      ],
      "source": [
        "## grad_fn shows the function that generated this variable\n",
        "print(y.grad_fn)"
      ]
    },
    {
      "cell_type": "markdown",
      "metadata": {
        "id": "zeqVMfAr0dkc"
      },
      "source": [
        "The autograd module keeps track of these operations and knows how to calculate the gradient for each one. In this way, it's able to calculate the gradients for a chain of operations, with respect to any one tensor. Let's reduce the tensor `y` to a scalar value, the mean."
      ]
    },
    {
      "cell_type": "code",
      "execution_count": 11,
      "metadata": {
        "colab": {
          "base_uri": "https://localhost:8080/"
        },
        "id": "6I2N_R4l0dkc",
        "outputId": "4baff2e2-3734-4bb7-8a62-00ae88c2df0f"
      },
      "outputs": [
        {
          "output_type": "stream",
          "name": "stdout",
          "text": [
            "tensor(0.9360, grad_fn=<MeanBackward0>)\n"
          ]
        }
      ],
      "source": [
        "z = y.mean()\n",
        "print(z)"
      ]
    },
    {
      "cell_type": "markdown",
      "metadata": {
        "id": "YNSy1XbT0dkc"
      },
      "source": [
        "You can check the gradients for `x` and `y` but they are empty currently."
      ]
    },
    {
      "cell_type": "code",
      "execution_count": 12,
      "metadata": {
        "colab": {
          "base_uri": "https://localhost:8080/"
        },
        "id": "KdRFUR-50dkc",
        "outputId": "95afa259-6c58-4230-c41c-ac95bf6443a2"
      },
      "outputs": [
        {
          "output_type": "stream",
          "name": "stdout",
          "text": [
            "None\n",
            "None\n"
          ]
        },
        {
          "output_type": "stream",
          "name": "stderr",
          "text": [
            "<ipython-input-12-cd4c40187c02>:2: UserWarning: The .grad attribute of a Tensor that is not a leaf Tensor is being accessed. Its .grad attribute won't be populated during autograd.backward(). If you indeed want the .grad field to be populated for a non-leaf Tensor, use .retain_grad() on the non-leaf Tensor. If you access the non-leaf Tensor by mistake, make sure you access the leaf Tensor instead. See github.com/pytorch/pytorch/pull/30531 for more informations. (Triggered internally at aten/src/ATen/core/TensorBody.h:489.)\n",
            "  print(y.grad)\n"
          ]
        }
      ],
      "source": [
        "print(x.grad)\n",
        "print(y.grad)"
      ]
    },
    {
      "cell_type": "markdown",
      "metadata": {
        "id": "YISANZ1a0dkd"
      },
      "source": [
        "Because the original x is definted with \"requires_grad=True\", Pytorch is aware of this chain of\n",
        "z = y.mean() [notice grad_fn=<MeanBackward0> in the printout of tensor z] and y = x**2 [notice grad_fn=<PowBackward0> in the printout of tensor y].\n",
        "\n",
        "To calculate the gradients, you need to run the `.backward` method on a Variable, `z` for example. This will calculate the gradient for `z` with respect to `x`. Mathmatically, since z = y.mean() and y = x**2, with `x` as a matrix and $x_i$ as one of the elements in `x`, we have:\n",
        "$$z=\\frac{1}{n}\\sum_i^n x_i^2$$\n",
        "We can prove that:\n",
        "\\begin{align}\n",
        "\\frac{\\partial z}{\\partial x_i} &= \\frac{\\partial}{\\partial x}\\left(\\frac{1}{n}\\sum_i^n x_i^2\\right) \\\\\n",
        "&= \\frac{\\partial [1/n(x_1^2+...+x_i^2+...+x_n^2)]}{\\partial x_i}\\\\\n",
        "&= \\frac{2x_i}{n}\n",
        "\\end{align}\n",
        "\n",
        "With `x` as a matrix, for example, of size 3x3:\n",
        "$$\n",
        "x=\n",
        "\\begin{bmatrix}\n",
        "x_{11} & x_{12} & x_{13}\\\\\n",
        "x_{21} & x_{22} & x_{23}\\\\\n",
        "x_{31} & x_{32} & x_{33}\n",
        "\\end{bmatrix}\n",
        "$$\n",
        "the scaler-by-matrix differentation is\n",
        "$$\n",
        "\\frac{\\partial z}{\\partial x} =\n",
        "\\begin{bmatrix}\n",
        "\\frac{\\partial z}{\\partial x_{11}} & \\frac{\\partial z}{\\partial x_{12}} & \\frac{\\partial z}{\\partial x_{13}}\\\\\n",
        "\\frac{\\partial z}{\\partial x_{21}} & \\frac{\\partial z}{\\partial x_{22}} & \\frac{\\partial z}{\\partial x_{23}}\\\\\n",
        "\\frac{\\partial z}{\\partial x_{31}} & \\frac{\\partial z}{\\partial x_{32}} & \\frac{\\partial z}{\\partial x_{33}}\\\\\n",
        "\\end{bmatrix}\n",
        "$$\n",
        "In this case, n=9, and we have\n",
        "$$\n",
        "\\frac{\\partial z}{\\partial x_{ij}} = \\frac{2x_{ij}}{9}\n",
        "$$\n",
        "The following code shows that `z.backward()` computes the gradient for a 3x3 `x` exactly the same as its closed form:"
      ]
    },
    {
      "cell_type": "code",
      "execution_count": 13,
      "metadata": {
        "colab": {
          "base_uri": "https://localhost:8080/"
        },
        "id": "MJkj_I1n0dkd",
        "outputId": "a4f05ac0-5e83-426c-c7c2-1fec173331bd"
      },
      "outputs": [
        {
          "output_type": "stream",
          "name": "stdout",
          "text": [
            "tensor(0.9360, grad_fn=<MeanBackward0>)\n",
            "x.grad: tensor([[-0.2121,  0.2960,  0.1926],\n",
            "        [-0.2775, -0.0420,  0.2091],\n",
            "        [-0.1346,  0.1666, -0.2791]])\n",
            "2*x/9: tensor([[-0.2121,  0.2960,  0.1926],\n",
            "        [-0.2775, -0.0420,  0.2091],\n",
            "        [-0.1346,  0.1666, -0.2791]], grad_fn=<DivBackward0>)\n"
          ]
        }
      ],
      "source": [
        "z.backward()\n",
        "print(z)\n",
        "print(\"x.grad:\", x.grad)\n",
        "print(\"2*x/9:\", 2*x/9)"
      ]
    },
    {
      "cell_type": "markdown",
      "metadata": {
        "id": "yvpT48b30dkd"
      },
      "source": [
        "These gradients calculations are particularly useful for neural networks. For training we need the gradients of the cost with respect to the weights. With PyTorch, we run data forward through the network to calculate the loss, then, go backwards to calculate the gradients with respect to the loss. Once we have the gradients we can make a gradient descent step."
      ]
    },
    {
      "cell_type": "markdown",
      "metadata": {
        "id": "65EuzCUr0dkd"
      },
      "source": [
        "## Loss and Autograd together\n",
        "\n",
        "When we create a network with PyTorch, all of the parameters are initialized with `requires_grad = True`. This means that when we calculate the loss and call `loss.backward()`, the gradients for the parameters are calculated. These gradients are used to update the weights with gradient descent. Below you can see an example of calculating the gradients using a backwards pass."
      ]
    },
    {
      "cell_type": "code",
      "execution_count": 14,
      "metadata": {
        "id": "3dNbn3TI0dkd"
      },
      "outputs": [],
      "source": [
        "# Build a feed-forward network\n",
        "model = nn.Sequential(nn.Linear(784, 128),\n",
        "                      nn.ReLU(),\n",
        "                      nn.Linear(128, 64),\n",
        "                      nn.ReLU(),\n",
        "                      nn.Linear(64, 10),\n",
        "                      nn.LogSoftmax(dim=1))  # this line is extra comparing to earlier nn.Sequential calls\n",
        "\n",
        "criterion = nn.NLLLoss()\n",
        "images, labels = next(iter(trainloader))\n",
        "images = images.view(images.shape[0], -1)\n",
        "\n",
        "logits = model(images)\n",
        "loss = criterion(logits, labels)"
      ]
    },
    {
      "cell_type": "code",
      "execution_count": 15,
      "metadata": {
        "colab": {
          "base_uri": "https://localhost:8080/"
        },
        "id": "g-p8XfXP0dke",
        "outputId": "f9515846-908f-43b3-b56f-f06a87c6ac2c"
      },
      "outputs": [
        {
          "output_type": "stream",
          "name": "stdout",
          "text": [
            "Before backward pass: \n",
            " None\n",
            "After backward pass: \n",
            " tensor([[-0.0014, -0.0014, -0.0014,  ..., -0.0014, -0.0014, -0.0014],\n",
            "        [ 0.0030,  0.0030,  0.0030,  ...,  0.0030,  0.0030,  0.0030],\n",
            "        [ 0.0018,  0.0018,  0.0018,  ...,  0.0018,  0.0018,  0.0018],\n",
            "        ...,\n",
            "        [ 0.0034,  0.0034,  0.0034,  ...,  0.0034,  0.0034,  0.0034],\n",
            "        [ 0.0002,  0.0002,  0.0002,  ...,  0.0002,  0.0002,  0.0002],\n",
            "        [-0.0006, -0.0006, -0.0006,  ..., -0.0006, -0.0006, -0.0006]])\n"
          ]
        }
      ],
      "source": [
        "print('Before backward pass: \\n', model[0].weight.grad)\n",
        "\n",
        "loss.backward()\n",
        "\n",
        "print('After backward pass: \\n', model[0].weight.grad)"
      ]
    },
    {
      "cell_type": "markdown",
      "metadata": {
        "id": "m55kgvoj0dke"
      },
      "source": [
        "## Training the network!\n",
        "\n",
        "There's one last piece we need to start training, an optimizer that we'll use to update the weights with the gradients. We get these from PyTorch's [`optim` package](https://pytorch.org/docs/stable/optim.html). For example we can use stochastic gradient descent with `optim.SGD`. You can see how to define an optimizer below."
      ]
    },
    {
      "cell_type": "code",
      "execution_count": 16,
      "metadata": {
        "colab": {
          "base_uri": "https://localhost:8080/"
        },
        "id": "ctj-ou360dke",
        "outputId": "476273ec-68d6-49a1-8839-cf4760e875b7"
      },
      "outputs": [
        {
          "output_type": "stream",
          "name": "stdout",
          "text": [
            "<generator object Module.parameters at 0x798d300165e0>\n",
            "torch.Size([128, 784])\n",
            "torch.Size([128])\n",
            "torch.Size([64, 128])\n",
            "torch.Size([64])\n",
            "torch.Size([10, 64])\n",
            "torch.Size([10])\n"
          ]
        }
      ],
      "source": [
        "from torch import optim\n",
        "\n",
        "# Optimizers require the parameters to optimize and a learning rate\n",
        "optimizer = optim.SGD(model.parameters(), lr=0.01)\n",
        "print(model.parameters())\n",
        "for parameter in model.parameters():\n",
        "    print(parameter.shape)"
      ]
    },
    {
      "cell_type": "markdown",
      "metadata": {
        "id": "HBdVZsJl0dke"
      },
      "source": [
        "Now we know how to use all the individual parts so it's time to see how they work together. Let's consider just one learning step before looping through all the data. The general process with PyTorch:\n",
        "\n",
        "* Make a forward pass through the network\n",
        "* Use the network output to calculate the loss\n",
        "* Perform a backward pass through the network with `loss.backward()` to calculate the gradients\n",
        "* Take a step with the optimizer to update the weights\n",
        "\n",
        "Below I'll go through one training step and print out the weights and gradients so you can see how it changes. Note that I have a line of code `optimizer.zero_grad()`. When you do multiple backwards passes with the same parameters, the gradients are accumulated. This means that you need to zero the gradients on each training pass or you'll retain gradients from previous training batches."
      ]
    },
    {
      "cell_type": "code",
      "execution_count": 17,
      "metadata": {
        "colab": {
          "base_uri": "https://localhost:8080/"
        },
        "id": "iCaBhmi-0dke",
        "outputId": "d9c277f3-e021-4345-f308-fdbe38e42927"
      },
      "outputs": [
        {
          "output_type": "stream",
          "name": "stdout",
          "text": [
            "Initial weights -  Parameter containing:\n",
            "tensor([[-0.0251,  0.0200, -0.0273,  ...,  0.0154, -0.0278,  0.0023],\n",
            "        [-0.0195, -0.0051, -0.0034,  ...,  0.0304, -0.0203,  0.0284],\n",
            "        [-0.0056,  0.0252, -0.0083,  ...,  0.0039,  0.0066, -0.0226],\n",
            "        ...,\n",
            "        [-0.0153,  0.0239,  0.0118,  ..., -0.0061, -0.0319,  0.0115],\n",
            "        [-0.0171,  0.0057, -0.0135,  ..., -0.0019, -0.0031,  0.0223],\n",
            "        [-0.0003, -0.0330,  0.0054,  ..., -0.0153, -0.0102, -0.0025]],\n",
            "       requires_grad=True)\n",
            "Gradient - tensor([[ 4.0102e-03,  4.0102e-03,  4.0102e-03,  ...,  4.0102e-03,\n",
            "          4.0102e-03,  4.0102e-03],\n",
            "        [-3.3041e-04, -3.3041e-04, -3.3041e-04,  ..., -3.3041e-04,\n",
            "         -3.3041e-04, -3.3041e-04],\n",
            "        [ 7.6902e-05,  7.6902e-05,  7.6902e-05,  ...,  7.6902e-05,\n",
            "          7.6902e-05,  7.6902e-05],\n",
            "        ...,\n",
            "        [ 2.8519e-03,  2.8519e-03,  2.8519e-03,  ...,  2.8519e-03,\n",
            "          2.8519e-03,  2.8519e-03],\n",
            "        [-4.0199e-04, -4.0199e-04, -4.0199e-04,  ..., -4.0199e-04,\n",
            "         -4.0199e-04, -4.0199e-04],\n",
            "        [-1.1168e-03, -1.1168e-03, -1.1168e-03,  ..., -1.1168e-03,\n",
            "         -1.1168e-03, -1.1168e-03]])\n"
          ]
        }
      ],
      "source": [
        "print('Initial weights - ', model[0].weight)\n",
        "\n",
        "images, labels = next(iter(trainloader))\n",
        "images.resize_(64, 784) # another way to flatten\n",
        "\n",
        "# Clear the gradients, do this because gradients are accumulated\n",
        "optimizer.zero_grad()\n",
        "\n",
        "# Forward pass, then backward pass, then update weights\n",
        "output = model(images)\n",
        "loss = criterion(output, labels)\n",
        "loss.backward()\n",
        "print('Gradient -', model[0].weight.grad)"
      ]
    },
    {
      "cell_type": "code",
      "execution_count": 18,
      "metadata": {
        "colab": {
          "base_uri": "https://localhost:8080/"
        },
        "id": "mywBxEBw0dke",
        "outputId": "94049708-d224-4869-c282-be99858823c2"
      },
      "outputs": [
        {
          "output_type": "stream",
          "name": "stdout",
          "text": [
            "Updated weights -  Parameter containing:\n",
            "tensor([[-0.0251,  0.0199, -0.0274,  ...,  0.0154, -0.0279,  0.0023],\n",
            "        [-0.0195, -0.0051, -0.0034,  ...,  0.0304, -0.0203,  0.0284],\n",
            "        [-0.0056,  0.0252, -0.0083,  ...,  0.0039,  0.0066, -0.0226],\n",
            "        ...,\n",
            "        [-0.0154,  0.0239,  0.0118,  ..., -0.0061, -0.0319,  0.0115],\n",
            "        [-0.0170,  0.0057, -0.0135,  ..., -0.0019, -0.0031,  0.0223],\n",
            "        [-0.0003, -0.0330,  0.0054,  ..., -0.0153, -0.0102, -0.0025]],\n",
            "       requires_grad=True)\n"
          ]
        }
      ],
      "source": [
        "# Take an update step and few the new weights\n",
        "optimizer.step()\n",
        "print('Updated weights - ', model[0].weight)"
      ]
    },
    {
      "cell_type": "markdown",
      "metadata": {
        "id": "KV3CtLaN0dkf"
      },
      "source": [
        "### Training for real\n",
        "\n",
        "Now we'll put this algorithm into a loop so we can go through all the images. Some nomenclature, one pass through the entire dataset is called an *epoch*. So here we're going to loop through `trainloader` to get our training batches. For each batch, we'll doing a training pass where we calculate the loss, do a backwards pass, and update the weights.\n",
        "\n",
        ">**Final Project:** This is the training pass for our network. If implemented correctly, you should see the training loss drop with each epoch."
      ]
    },
    {
      "cell_type": "code",
      "execution_count": 19,
      "metadata": {
        "id": "pHvoy-940dkf"
      },
      "outputs": [],
      "source": [
        "# TODO: design and build up your NN model and train it using MNIST data set"
      ]
    },
    {
      "cell_type": "markdown",
      "metadata": {
        "id": "xJpatAYJ0dkf"
      },
      "source": [
        "Try to plot the loss per batch per epoch. This is just a reference, you can come up with your own visualization.\n",
        "`losses` is the variable storing the accumulated error (loss) from your training above"
      ]
    },
    {
      "cell_type": "code",
      "execution_count": 153,
      "metadata": {
        "colab": {
          "base_uri": "https://localhost:8080/",
          "height": 594
        },
        "id": "qhhOV3u50dkf",
        "outputId": "54fa8eb4-0d85-4cf4-c282-7bfc28ff0390"
      },
      "outputs": [
        {
          "output_type": "stream",
          "name": "stdout",
          "text": [
            "Length of trainloader:938\n",
            "Epoch 1 - Training loss: 0.009901814852442308\n",
            "Epoch 2 - Training loss: 0.009551744957428191\n"
          ]
        },
        {
          "output_type": "display_data",
          "data": {
            "text/plain": [
              "<Figure size 1200x600 with 1 Axes>"
            ],
            "image/png": "[encoded data removed]"
          },
          "metadata": {}
        }
      ],
      "source": [
        "from functools import total_ordering\n",
        "import matplotlib.pyplot as plt\n",
        "import numpy as np\n",
        "import copy\n",
        "x = np.arange(938)\n",
        "losses = [[],[],[],[],[],[],[],[],[],[],[],[],[],[]]\n",
        "print (f\"Length of trainloader:{len(trainloader)}\")\n",
        "\n",
        "\n",
        "for epoch in range(2):\n",
        "  total_loss = 0\n",
        "  for index, (tuple_images,tuple_label) in enumerate(trainloader):\n",
        "\n",
        "    # parse tuple data\n",
        "    image = tuple_images\n",
        "    label = tuple_label\n",
        "\n",
        "    # manipulate data\n",
        "    image = image.view(image.shape[0], -1)\n",
        "    optimizer.zero_grad()\n",
        "    output = model(image)\n",
        "    loss = criterion(output, label)\n",
        "    loss.backward()\n",
        "    optimizer.step()\n",
        "\n",
        "    # get data for graph\n",
        "    total_loss += loss.item()\n",
        "    losses[epoch].append(loss.item())\n",
        "\n",
        "  print(f\"Epoch {epoch+1} - Training loss: {total_loss/len(trainloader)}\")\n",
        "\n",
        "\n",
        "plt.figure(figsize=[12, 6])\n",
        "plt.plot(x, losses[0], color='yellow', label=\"1st\")\n",
        "plt.plot(x, losses[1], color='b', label=\"2nd\")\n",
        "#plt.plot(x, losses[2], color='r', label=\"3rd\")\n",
        "#plt.plot(x, losses[3], color='g', label=\"4th\")\n",
        "#plt.plot(x, losses[4], color='orange', label=\"5th\")\n",
        "#plt.plot(x, losses[9], color='black', label=\"9th\")\n",
        "plt.xlabel('batch idx')\n",
        "plt.ylabel('loss')\n",
        "plt.legend()\n",
        "plt.show()\n",
        "\n",
        "\n"
      ]
    },
    {
      "cell_type": "markdown",
      "metadata": {
        "id": "aRQdvfG60dkf"
      },
      "source": [
        "### Test the Trained Model\n",
        "\n",
        "With the neural network trained, we can check out its classification using the test images.\n",
        ">**Experiment With Code** Change the index of images[ ] (within [0, 63] since we only have 64 images within on batch) to check out predictions for other handwriten digits. - here we are using the training images to test our model\n",
        "\n"
      ]
    },
    {
      "cell_type": "code",
      "execution_count": 152,
      "metadata": {
        "colab": {
          "base_uri": "https://localhost:8080/",
          "height": 914
        },
        "id": "ZSZd5hAQ0dkf",
        "outputId": "3d4ddbe5-b457-457b-eb02-b403bb976587"
      },
      "outputs": [
        {
          "output_type": "stream",
          "name": "stdout",
          "text": [
            "tensor([[9.9997e-01, 5.3892e-10, 2.7316e-05, 5.0398e-13, 8.7885e-20, 6.3201e-12,\n",
            "         9.8729e-10, 4.6376e-10, 2.3406e-15, 3.6437e-10]])\n",
            "tensor(0)\n"
          ]
        },
        {
          "output_type": "display_data",
          "data": {
            "text/plain": [
              "<Figure size 640x480 with 1 Axes>"
            ],
            "image/png": "[encoded data removed]"
          },
          "metadata": {}
        },
        {
          "output_type": "display_data",
          "data": {
            "text/plain": [
              "<Figure size 640x480 with 1 Axes>"
            ],
            "image/png": "[encoded data removed]"
          },
          "metadata": {}
        }
      ],
      "source": [
        "%matplotlib inline\n",
        "import helper\n",
        "\n",
        "graph_labels = [\"0\",\"1\",\"2\",\"3\",\"4\",\"5\",\"6\",\"7\",\"8\",\"9\"]\n",
        "\n",
        "images, labels = next(iter(trainloader))\n",
        "\n",
        "img = images[33].view(1, 784)\n",
        "print_out = images[33]\n",
        "true_label = labels[33]\n",
        "\n",
        "\n",
        "with torch.no_grad():\n",
        "    logps = model(img)\n",
        "\n",
        "ps = torch.exp(logps)\n",
        "\n",
        "A1 = plt.figure(1)\n",
        "plt.xlabel('Label: '+ str(true_label.item()))\n",
        "plt.imshow(print_out.permute(1,2,0), cmap='gray')\n",
        "A1.show()\n",
        "\n",
        "probabilities = ps[0]\n",
        "\n",
        "A2 = plt.figure(2)\n",
        "plt.bar(graph_labels, probabilities)\n",
        "A2.show()\n",
        "\n",
        "print(ps)\n",
        "print(true_label)\n",
        "\n"
      ]
    },
    {
      "cell_type": "markdown",
      "metadata": {
        "id": "v8RYZgna0dkg"
      },
      "source": [
        "Now our network is brilliant. It can accurately predict the digits in our images.\n",
        ">**Final Project** Load images from our own handwritten digit sets, use your trained nerual network model to do the classification and gather accuracy data. - the module should have not seen these test images, wonder how it will perform. Have fun!"
      ]
    }
  ],
  "metadata": {
    "kernelspec": {
      "display_name": "Python 3 (ipykernel)",
      "language": "python",
      "name": "python3"
    },
    "language_info": {
      "codemirror_mode": {
        "name": "ipython",
        "version": 3
      },
      "file_extension": ".py",
      "mimetype": "text/x-python",
      "name": "python",
      "nbconvert_exporter": "python",
      "pygments_lexer": "ipython3",
      "version": "3.12.4"
    },
    "colab": {
      "provenance": []
    }
  },
  "nbformat": 4,
  "nbformat_minor": 0
}